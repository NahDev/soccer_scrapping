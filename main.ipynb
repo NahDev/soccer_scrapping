{
 "cells": [
  {
   "cell_type": "code",
   "execution_count": 3,
   "metadata": {},
   "outputs": [],
   "source": [
    "from selenium import webdriver\n",
    "from selenium.webdriver.common.by import By\n",
    "import json\n",
    "\n"
   ]
  },
  {
   "cell_type": "code",
   "execution_count": null,
   "metadata": {},
   "outputs": [],
   "source": [
    "\n",
    "\n",
    "# Configurar as opções do Firefox (opcional)\n",
    "opcoes = webdriver.FirefoxOptions()\n",
    "# Por exemplo, para abrir o navegador em modo headless (sem interface gráfica), você pode adicionar:\n",
    "# opcoes.add_argument(\"--headless\")\n",
    "\n",
    "# Inicializar o navegador Firefox com as opções especificadas\n",
    "navegador = webdriver.Firefox()\n",
    "url = \"https://1xbet.whoscored.com/Regions/31/Tournaments/95/Seasons/9428/Stages/21743/TeamStatistics/Brazil-Brasileir%C3%A3o-2023\"\n",
    "# Abrir o site desejado\n",
    "navegador.get(url)"
   ]
  },
  {
   "cell_type": "code",
   "execution_count": 2,
   "metadata": {},
   "outputs": [],
   "source": [
    "xpath = '//*[@id=\"top-team-stats-summary-grid\"]'\n",
    "dados_string = navegador.find_element(By.XPATH,xpath)"
   ]
  },
  {
   "cell_type": "code",
   "execution_count": 3,
   "metadata": {},
   "outputs": [
    {
     "data": {
      "text/plain": [
       "'Team\\nGoals Shots pg Discipline Possession% Pass% AerialsWon Rating\\n1. Botafogo RJ 45 12.9 663 46.4 81.3 14.2 6.81\\n2. Palmeiras 47 15.7 722 53.4 83.1 13.5 6.74\\n3. Red Bull Bragantino 41 16.4 852 56.4 79.5 15 6.73\\n4. Atletico MG 34 13 914 53.4 82.7 13.9 6.72\\n5. Flamengo 43 12.9 632 58.7 86.1 12.4 6.71\\n6. Athletico Paranaense 44 14.7 814 47.2 80.1 15.5 6.69\\n7. Fluminense 42 14.4 887 61.9 87.5 11.9 6.68\\n8. Fortaleza 33 14.9 741 47.1 81.4 15.6 6.67\\n9. Cruzeiro 28 13.7 763 51.4 81.3 14.9 6.66\\n10. Gremio 46 12.6 764 45.5 78.5 13.5 6.65\\n11. Bahia 37 13.6 724 51.1 81.2 14 6.63\\n12. Sao Paulo 34 14.3 794 60.9 86.1 14 6.62\\n13. Corinthians 35 12 701 48.8 84.1 13.8 6.61\\n14. Cuiaba 30 12.9 672 45.0 81.0 17.2 6.61\\n15. Internacional 30 12.4 815 52.3 83.4 12.9 6.59\\n16. Goias 31 12.4 786 42.5 79.2 17.2 6.58\\n17. Vasco da Gama 28 13.1 802 48.2 81.8 14.9 6.58\\n18. Santos FC 31 11.7 817 43.9 78.6 14.5 6.53\\n19. Coritiba 29 11.8 922 44.1 78.5 15 6.50\\n20. America MG 33 14.2 699 40.6 75.3 16.8 6.49'"
      ]
     },
     "execution_count": 3,
     "metadata": {},
     "output_type": "execute_result"
    }
   ],
   "source": [
    "len(dados_string.text)\n",
    "(dados_string.text)"
   ]
  },
  {
   "cell_type": "markdown",
   "metadata": {},
   "source": [
    "# SALVAR INFORMAÇÕES\n"
   ]
  },
  {
   "cell_type": "code",
   "execution_count": 4,
   "metadata": {},
   "outputs": [],
   "source": [
    "\n",
    "# A string fornecida\n",
    "\n",
    "# Divida a string em linhas e separe os dados por espaços em branco\n",
    "linhas = dados_string.text.split('\\n')\n",
    "dados = []\n"
   ]
  },
  {
   "cell_type": "code",
   "execution_count": 5,
   "metadata": {},
   "outputs": [
    {
     "data": {
      "text/plain": [
       "list"
      ]
     },
     "execution_count": 5,
     "metadata": {},
     "output_type": "execute_result"
    }
   ],
   "source": [
    "type(linhas)\n"
   ]
  },
  {
   "cell_type": "code",
   "execution_count": 6,
   "metadata": {},
   "outputs": [],
   "source": [
    "# Divida a string em linhas e separe os cabeçalhos da primeira linha\n",
    "# linhas = dados_string.split('\\n')\n",
    "cabecalhos = linhas[1].split()\n",
    "cabecalhos.append(linhas[0].split()[0])\n",
    "dados = []\n",
    "\n"
   ]
  },
  {
   "cell_type": "code",
   "execution_count": 7,
   "metadata": {},
   "outputs": [],
   "source": [
    "ultimo_item = cabecalhos.pop()\n",
    "\n",
    "cabecalhos.insert(0, ultimo_item)"
   ]
  },
  {
   "cell_type": "code",
   "execution_count": 8,
   "metadata": {},
   "outputs": [
    {
     "data": {
      "text/plain": [
       "['Team',\n",
       " 'Goals',\n",
       " 'Shots',\n",
       " 'pg',\n",
       " 'Discipline',\n",
       " 'Possession%',\n",
       " 'Pass%',\n",
       " 'AerialsWon',\n",
       " 'Rating']"
      ]
     },
     "execution_count": 8,
     "metadata": {},
     "output_type": "execute_result"
    }
   ],
   "source": [
    "cabecalhos"
   ]
  },
  {
   "cell_type": "code",
   "execution_count": 9,
   "metadata": {},
   "outputs": [],
   "source": [
    "\n",
    "\n",
    "# Itere pelas linhas de dados, começando da segunda linha para ignorar o cabeçalho\n",
    "for linha in linhas[2:]:\n",
    "    elementos = linha.split()\n",
    "    equipe = {}\n",
    "\n",
    "    # Associe cada cabeçalho ao valor correspondente na linha\n",
    "    for i, cabecalho in enumerate(cabecalhos):\n",
    "        equipe[cabecalho] = elementos[i]\n",
    "\n",
    "    dados.append(equipe)\n"
   ]
  },
  {
   "cell_type": "code",
   "execution_count": 10,
   "metadata": {},
   "outputs": [
    {
     "data": {
      "text/plain": [
       "[{'Team': '1.',\n",
       "  'Goals': 'Botafogo',\n",
       "  'Shots': 'RJ',\n",
       "  'pg': '45',\n",
       "  'Discipline': '12.9',\n",
       "  'Possession%': '663',\n",
       "  'Pass%': '46.4',\n",
       "  'AerialsWon': '81.3',\n",
       "  'Rating': '14.2'},\n",
       " {'Team': '2.',\n",
       "  'Goals': 'Palmeiras',\n",
       "  'Shots': '47',\n",
       "  'pg': '15.7',\n",
       "  'Discipline': '722',\n",
       "  'Possession%': '53.4',\n",
       "  'Pass%': '83.1',\n",
       "  'AerialsWon': '13.5',\n",
       "  'Rating': '6.74'},\n",
       " {'Team': '3.',\n",
       "  'Goals': 'Red',\n",
       "  'Shots': 'Bull',\n",
       "  'pg': 'Bragantino',\n",
       "  'Discipline': '41',\n",
       "  'Possession%': '16.4',\n",
       "  'Pass%': '852',\n",
       "  'AerialsWon': '56.4',\n",
       "  'Rating': '79.5'},\n",
       " {'Team': '4.',\n",
       "  'Goals': 'Atletico',\n",
       "  'Shots': 'MG',\n",
       "  'pg': '34',\n",
       "  'Discipline': '13',\n",
       "  'Possession%': '914',\n",
       "  'Pass%': '53.4',\n",
       "  'AerialsWon': '82.7',\n",
       "  'Rating': '13.9'},\n",
       " {'Team': '5.',\n",
       "  'Goals': 'Flamengo',\n",
       "  'Shots': '43',\n",
       "  'pg': '12.9',\n",
       "  'Discipline': '632',\n",
       "  'Possession%': '58.7',\n",
       "  'Pass%': '86.1',\n",
       "  'AerialsWon': '12.4',\n",
       "  'Rating': '6.71'},\n",
       " {'Team': '6.',\n",
       "  'Goals': 'Athletico',\n",
       "  'Shots': 'Paranaense',\n",
       "  'pg': '44',\n",
       "  'Discipline': '14.7',\n",
       "  'Possession%': '814',\n",
       "  'Pass%': '47.2',\n",
       "  'AerialsWon': '80.1',\n",
       "  'Rating': '15.5'},\n",
       " {'Team': '7.',\n",
       "  'Goals': 'Fluminense',\n",
       "  'Shots': '42',\n",
       "  'pg': '14.4',\n",
       "  'Discipline': '887',\n",
       "  'Possession%': '61.9',\n",
       "  'Pass%': '87.5',\n",
       "  'AerialsWon': '11.9',\n",
       "  'Rating': '6.68'},\n",
       " {'Team': '8.',\n",
       "  'Goals': 'Fortaleza',\n",
       "  'Shots': '33',\n",
       "  'pg': '14.9',\n",
       "  'Discipline': '741',\n",
       "  'Possession%': '47.1',\n",
       "  'Pass%': '81.4',\n",
       "  'AerialsWon': '15.6',\n",
       "  'Rating': '6.67'},\n",
       " {'Team': '9.',\n",
       "  'Goals': 'Cruzeiro',\n",
       "  'Shots': '28',\n",
       "  'pg': '13.7',\n",
       "  'Discipline': '763',\n",
       "  'Possession%': '51.4',\n",
       "  'Pass%': '81.3',\n",
       "  'AerialsWon': '14.9',\n",
       "  'Rating': '6.66'},\n",
       " {'Team': '10.',\n",
       "  'Goals': 'Gremio',\n",
       "  'Shots': '46',\n",
       "  'pg': '12.6',\n",
       "  'Discipline': '764',\n",
       "  'Possession%': '45.5',\n",
       "  'Pass%': '78.5',\n",
       "  'AerialsWon': '13.5',\n",
       "  'Rating': '6.65'},\n",
       " {'Team': '11.',\n",
       "  'Goals': 'Bahia',\n",
       "  'Shots': '37',\n",
       "  'pg': '13.6',\n",
       "  'Discipline': '724',\n",
       "  'Possession%': '51.1',\n",
       "  'Pass%': '81.2',\n",
       "  'AerialsWon': '14',\n",
       "  'Rating': '6.63'},\n",
       " {'Team': '12.',\n",
       "  'Goals': 'Sao',\n",
       "  'Shots': 'Paulo',\n",
       "  'pg': '34',\n",
       "  'Discipline': '14.3',\n",
       "  'Possession%': '794',\n",
       "  'Pass%': '60.9',\n",
       "  'AerialsWon': '86.1',\n",
       "  'Rating': '14'},\n",
       " {'Team': '13.',\n",
       "  'Goals': 'Corinthians',\n",
       "  'Shots': '35',\n",
       "  'pg': '12',\n",
       "  'Discipline': '701',\n",
       "  'Possession%': '48.8',\n",
       "  'Pass%': '84.1',\n",
       "  'AerialsWon': '13.8',\n",
       "  'Rating': '6.61'},\n",
       " {'Team': '14.',\n",
       "  'Goals': 'Cuiaba',\n",
       "  'Shots': '30',\n",
       "  'pg': '12.9',\n",
       "  'Discipline': '672',\n",
       "  'Possession%': '45.0',\n",
       "  'Pass%': '81.0',\n",
       "  'AerialsWon': '17.2',\n",
       "  'Rating': '6.61'},\n",
       " {'Team': '15.',\n",
       "  'Goals': 'Internacional',\n",
       "  'Shots': '30',\n",
       "  'pg': '12.4',\n",
       "  'Discipline': '815',\n",
       "  'Possession%': '52.3',\n",
       "  'Pass%': '83.4',\n",
       "  'AerialsWon': '12.9',\n",
       "  'Rating': '6.59'},\n",
       " {'Team': '16.',\n",
       "  'Goals': 'Goias',\n",
       "  'Shots': '31',\n",
       "  'pg': '12.4',\n",
       "  'Discipline': '786',\n",
       "  'Possession%': '42.5',\n",
       "  'Pass%': '79.2',\n",
       "  'AerialsWon': '17.2',\n",
       "  'Rating': '6.58'},\n",
       " {'Team': '17.',\n",
       "  'Goals': 'Vasco',\n",
       "  'Shots': 'da',\n",
       "  'pg': 'Gama',\n",
       "  'Discipline': '28',\n",
       "  'Possession%': '13.1',\n",
       "  'Pass%': '802',\n",
       "  'AerialsWon': '48.2',\n",
       "  'Rating': '81.8'},\n",
       " {'Team': '18.',\n",
       "  'Goals': 'Santos',\n",
       "  'Shots': 'FC',\n",
       "  'pg': '31',\n",
       "  'Discipline': '11.7',\n",
       "  'Possession%': '817',\n",
       "  'Pass%': '43.9',\n",
       "  'AerialsWon': '78.6',\n",
       "  'Rating': '14.5'},\n",
       " {'Team': '19.',\n",
       "  'Goals': 'Coritiba',\n",
       "  'Shots': '29',\n",
       "  'pg': '11.8',\n",
       "  'Discipline': '922',\n",
       "  'Possession%': '44.1',\n",
       "  'Pass%': '78.5',\n",
       "  'AerialsWon': '15',\n",
       "  'Rating': '6.50'},\n",
       " {'Team': '20.',\n",
       "  'Goals': 'America',\n",
       "  'Shots': 'MG',\n",
       "  'pg': '33',\n",
       "  'Discipline': '14.2',\n",
       "  'Possession%': '699',\n",
       "  'Pass%': '40.6',\n",
       "  'AerialsWon': '75.3',\n",
       "  'Rating': '16.8'}]"
      ]
     },
     "execution_count": 10,
     "metadata": {},
     "output_type": "execute_result"
    }
   ],
   "source": [
    "dados"
   ]
  },
  {
   "cell_type": "code",
   "execution_count": 4,
   "metadata": {},
   "outputs": [
    {
     "ename": "NameError",
     "evalue": "name 'dados' is not defined",
     "output_type": "error",
     "traceback": [
      "\u001b[0;31m---------------------------------------------------------------------------\u001b[0m",
      "\u001b[0;31mNameError\u001b[0m                                 Traceback (most recent call last)",
      "\u001b[1;32m/home/pmaubouro/Área de Trabalho/SOCCER_SCRAPPING/main.ipynb Célula 13\u001b[0m line \u001b[0;36m3\n\u001b[1;32m      <a href='vscode-notebook-cell:/home/pmaubouro/%C3%81rea%20de%20Trabalho/SOCCER_SCRAPPING/main.ipynb#X14sZmlsZQ%3D%3D?line=0'>1</a>\u001b[0m \u001b[39m# Salve os dados em um arquivo JSON\u001b[39;00m\n\u001b[1;32m      <a href='vscode-notebook-cell:/home/pmaubouro/%C3%81rea%20de%20Trabalho/SOCCER_SCRAPPING/main.ipynb#X14sZmlsZQ%3D%3D?line=1'>2</a>\u001b[0m \u001b[39mwith\u001b[39;00m \u001b[39mopen\u001b[39m(\u001b[39m'\u001b[39m\u001b[39mdados.json\u001b[39m\u001b[39m'\u001b[39m, \u001b[39m'\u001b[39m\u001b[39mw\u001b[39m\u001b[39m'\u001b[39m, encoding\u001b[39m=\u001b[39m\u001b[39m'\u001b[39m\u001b[39mutf-8\u001b[39m\u001b[39m'\u001b[39m) \u001b[39mas\u001b[39;00m arquivo_json:\n\u001b[0;32m----> <a href='vscode-notebook-cell:/home/pmaubouro/%C3%81rea%20de%20Trabalho/SOCCER_SCRAPPING/main.ipynb#X14sZmlsZQ%3D%3D?line=2'>3</a>\u001b[0m     json\u001b[39m.\u001b[39mdump(dados, arquivo_json, ensure_ascii\u001b[39m=\u001b[39m\u001b[39mFalse\u001b[39;00m, indent\u001b[39m=\u001b[39m\u001b[39m4\u001b[39m)\n\u001b[1;32m      <a href='vscode-notebook-cell:/home/pmaubouro/%C3%81rea%20de%20Trabalho/SOCCER_SCRAPPING/main.ipynb#X14sZmlsZQ%3D%3D?line=4'>5</a>\u001b[0m \u001b[39mprint\u001b[39m(\u001b[39m\"\u001b[39m\u001b[39mDados salvos com sucesso em \u001b[39m\u001b[39m'\u001b[39m\u001b[39mdados.json\u001b[39m\u001b[39m'\u001b[39m\u001b[39m.\u001b[39m\u001b[39m\"\u001b[39m)\n",
      "\u001b[0;31mNameError\u001b[0m: name 'dados' is not defined"
     ]
    }
   ],
   "source": [
    "\n",
    "# Salve os dados em um arquivo JSON\n",
    "with open('dados.json', 'w', encoding='utf-8') as arquivo_json:\n",
    "    json.dump(dados, arquivo_json, ensure_ascii=False, indent=4)\n",
    "\n",
    "print(\"Dados salvos com sucesso em 'dados.json'.\")\n"
   ]
  },
  {
   "cell_type": "code",
   "execution_count": 12,
   "metadata": {},
   "outputs": [],
   "source": [
    "\n",
    "# Aguarde um tempo para que a página seja carregada ou outras ações sejam realizadas\n",
    "\n",
    "# Feche o navegador quando terminar\n",
    "navegador.quit()\n",
    "# //*[@id=\"statistics-team-table-summary\"]\n"
   ]
  },
  {
   "cell_type": "code",
   "execution_count": 8,
   "metadata": {},
   "outputs": [
    {
     "ename": "JSONDecodeError",
     "evalue": "Expecting value: line 1 column 1 (char 0)",
     "output_type": "error",
     "traceback": [
      "\u001b[0;31m---------------------------------------------------------------------------\u001b[0m",
      "\u001b[0;31mJSONDecodeError\u001b[0m                           Traceback (most recent call last)",
      "\u001b[1;32m/home/pmaubouro/Área de Trabalho/SOCCER_SCRAPPING/main.ipynb Célula 15\u001b[0m line \u001b[0;36m5\n\u001b[1;32m      <a href='vscode-notebook-cell:/home/pmaubouro/%C3%81rea%20de%20Trabalho/SOCCER_SCRAPPING/main.ipynb#X16sZmlsZQ%3D%3D?line=2'>3</a>\u001b[0m \u001b[39m# 1. Abra o arquivo JSON e carregue os dados\u001b[39;00m\n\u001b[1;32m      <a href='vscode-notebook-cell:/home/pmaubouro/%C3%81rea%20de%20Trabalho/SOCCER_SCRAPPING/main.ipynb#X16sZmlsZQ%3D%3D?line=3'>4</a>\u001b[0m \u001b[39mwith\u001b[39;00m \u001b[39mopen\u001b[39m(\u001b[39m'\u001b[39m\u001b[39mdados.json\u001b[39m\u001b[39m'\u001b[39m, \u001b[39m'\u001b[39m\u001b[39mr\u001b[39m\u001b[39m'\u001b[39m, encoding\u001b[39m=\u001b[39m\u001b[39m'\u001b[39m\u001b[39mutf-8\u001b[39m\u001b[39m'\u001b[39m) \u001b[39mas\u001b[39;00m arquivo_json:\n\u001b[0;32m----> <a href='vscode-notebook-cell:/home/pmaubouro/%C3%81rea%20de%20Trabalho/SOCCER_SCRAPPING/main.ipynb#X16sZmlsZQ%3D%3D?line=4'>5</a>\u001b[0m     dados \u001b[39m=\u001b[39m json\u001b[39m.\u001b[39;49mload(arquivo_json)\n\u001b[1;32m      <a href='vscode-notebook-cell:/home/pmaubouro/%C3%81rea%20de%20Trabalho/SOCCER_SCRAPPING/main.ipynb#X16sZmlsZQ%3D%3D?line=6'>7</a>\u001b[0m nomes_times \u001b[39m=\u001b[39m []\n\u001b[1;32m      <a href='vscode-notebook-cell:/home/pmaubouro/%C3%81rea%20de%20Trabalho/SOCCER_SCRAPPING/main.ipynb#X16sZmlsZQ%3D%3D?line=7'>8</a>\u001b[0m pontos \u001b[39m=\u001b[39m []\n",
      "File \u001b[0;32m/usr/lib/python3.10/json/__init__.py:293\u001b[0m, in \u001b[0;36mload\u001b[0;34m(fp, cls, object_hook, parse_float, parse_int, parse_constant, object_pairs_hook, **kw)\u001b[0m\n\u001b[1;32m    274\u001b[0m \u001b[39mdef\u001b[39;00m \u001b[39mload\u001b[39m(fp, \u001b[39m*\u001b[39m, \u001b[39mcls\u001b[39m\u001b[39m=\u001b[39m\u001b[39mNone\u001b[39;00m, object_hook\u001b[39m=\u001b[39m\u001b[39mNone\u001b[39;00m, parse_float\u001b[39m=\u001b[39m\u001b[39mNone\u001b[39;00m,\n\u001b[1;32m    275\u001b[0m         parse_int\u001b[39m=\u001b[39m\u001b[39mNone\u001b[39;00m, parse_constant\u001b[39m=\u001b[39m\u001b[39mNone\u001b[39;00m, object_pairs_hook\u001b[39m=\u001b[39m\u001b[39mNone\u001b[39;00m, \u001b[39m*\u001b[39m\u001b[39m*\u001b[39mkw):\n\u001b[1;32m    276\u001b[0m \u001b[39m    \u001b[39m\u001b[39m\"\"\"Deserialize ``fp`` (a ``.read()``-supporting file-like object containing\u001b[39;00m\n\u001b[1;32m    277\u001b[0m \u001b[39m    a JSON document) to a Python object.\u001b[39;00m\n\u001b[1;32m    278\u001b[0m \n\u001b[0;32m   (...)\u001b[0m\n\u001b[1;32m    291\u001b[0m \u001b[39m    kwarg; otherwise ``JSONDecoder`` is used.\u001b[39;00m\n\u001b[1;32m    292\u001b[0m \u001b[39m    \"\"\"\u001b[39;00m\n\u001b[0;32m--> 293\u001b[0m     \u001b[39mreturn\u001b[39;00m loads(fp\u001b[39m.\u001b[39;49mread(),\n\u001b[1;32m    294\u001b[0m         \u001b[39mcls\u001b[39;49m\u001b[39m=\u001b[39;49m\u001b[39mcls\u001b[39;49m, object_hook\u001b[39m=\u001b[39;49mobject_hook,\n\u001b[1;32m    295\u001b[0m         parse_float\u001b[39m=\u001b[39;49mparse_float, parse_int\u001b[39m=\u001b[39;49mparse_int,\n\u001b[1;32m    296\u001b[0m         parse_constant\u001b[39m=\u001b[39;49mparse_constant, object_pairs_hook\u001b[39m=\u001b[39;49mobject_pairs_hook, \u001b[39m*\u001b[39;49m\u001b[39m*\u001b[39;49mkw)\n",
      "File \u001b[0;32m/usr/lib/python3.10/json/__init__.py:346\u001b[0m, in \u001b[0;36mloads\u001b[0;34m(s, cls, object_hook, parse_float, parse_int, parse_constant, object_pairs_hook, **kw)\u001b[0m\n\u001b[1;32m    341\u001b[0m     s \u001b[39m=\u001b[39m s\u001b[39m.\u001b[39mdecode(detect_encoding(s), \u001b[39m'\u001b[39m\u001b[39msurrogatepass\u001b[39m\u001b[39m'\u001b[39m)\n\u001b[1;32m    343\u001b[0m \u001b[39mif\u001b[39;00m (\u001b[39mcls\u001b[39m \u001b[39mis\u001b[39;00m \u001b[39mNone\u001b[39;00m \u001b[39mand\u001b[39;00m object_hook \u001b[39mis\u001b[39;00m \u001b[39mNone\u001b[39;00m \u001b[39mand\u001b[39;00m\n\u001b[1;32m    344\u001b[0m         parse_int \u001b[39mis\u001b[39;00m \u001b[39mNone\u001b[39;00m \u001b[39mand\u001b[39;00m parse_float \u001b[39mis\u001b[39;00m \u001b[39mNone\u001b[39;00m \u001b[39mand\u001b[39;00m\n\u001b[1;32m    345\u001b[0m         parse_constant \u001b[39mis\u001b[39;00m \u001b[39mNone\u001b[39;00m \u001b[39mand\u001b[39;00m object_pairs_hook \u001b[39mis\u001b[39;00m \u001b[39mNone\u001b[39;00m \u001b[39mand\u001b[39;00m \u001b[39mnot\u001b[39;00m kw):\n\u001b[0;32m--> 346\u001b[0m     \u001b[39mreturn\u001b[39;00m _default_decoder\u001b[39m.\u001b[39;49mdecode(s)\n\u001b[1;32m    347\u001b[0m \u001b[39mif\u001b[39;00m \u001b[39mcls\u001b[39m \u001b[39mis\u001b[39;00m \u001b[39mNone\u001b[39;00m:\n\u001b[1;32m    348\u001b[0m     \u001b[39mcls\u001b[39m \u001b[39m=\u001b[39m JSONDecoder\n",
      "File \u001b[0;32m/usr/lib/python3.10/json/decoder.py:337\u001b[0m, in \u001b[0;36mJSONDecoder.decode\u001b[0;34m(self, s, _w)\u001b[0m\n\u001b[1;32m    332\u001b[0m \u001b[39mdef\u001b[39;00m \u001b[39mdecode\u001b[39m(\u001b[39mself\u001b[39m, s, _w\u001b[39m=\u001b[39mWHITESPACE\u001b[39m.\u001b[39mmatch):\n\u001b[1;32m    333\u001b[0m \u001b[39m    \u001b[39m\u001b[39m\"\"\"Return the Python representation of ``s`` (a ``str`` instance\u001b[39;00m\n\u001b[1;32m    334\u001b[0m \u001b[39m    containing a JSON document).\u001b[39;00m\n\u001b[1;32m    335\u001b[0m \n\u001b[1;32m    336\u001b[0m \u001b[39m    \"\"\"\u001b[39;00m\n\u001b[0;32m--> 337\u001b[0m     obj, end \u001b[39m=\u001b[39m \u001b[39mself\u001b[39;49m\u001b[39m.\u001b[39;49mraw_decode(s, idx\u001b[39m=\u001b[39;49m_w(s, \u001b[39m0\u001b[39;49m)\u001b[39m.\u001b[39;49mend())\n\u001b[1;32m    338\u001b[0m     end \u001b[39m=\u001b[39m _w(s, end)\u001b[39m.\u001b[39mend()\n\u001b[1;32m    339\u001b[0m     \u001b[39mif\u001b[39;00m end \u001b[39m!=\u001b[39m \u001b[39mlen\u001b[39m(s):\n",
      "File \u001b[0;32m/usr/lib/python3.10/json/decoder.py:355\u001b[0m, in \u001b[0;36mJSONDecoder.raw_decode\u001b[0;34m(self, s, idx)\u001b[0m\n\u001b[1;32m    353\u001b[0m     obj, end \u001b[39m=\u001b[39m \u001b[39mself\u001b[39m\u001b[39m.\u001b[39mscan_once(s, idx)\n\u001b[1;32m    354\u001b[0m \u001b[39mexcept\u001b[39;00m \u001b[39mStopIteration\u001b[39;00m \u001b[39mas\u001b[39;00m err:\n\u001b[0;32m--> 355\u001b[0m     \u001b[39mraise\u001b[39;00m JSONDecodeError(\u001b[39m\"\u001b[39m\u001b[39mExpecting value\u001b[39m\u001b[39m\"\u001b[39m, s, err\u001b[39m.\u001b[39mvalue) \u001b[39mfrom\u001b[39;00m \u001b[39mNone\u001b[39;00m\n\u001b[1;32m    356\u001b[0m \u001b[39mreturn\u001b[39;00m obj, end\n",
      "\u001b[0;31mJSONDecodeError\u001b[0m: Expecting value: line 1 column 1 (char 0)"
     ]
    }
   ],
   "source": [
    "import matplotlib.pyplot as plt\n",
    "\n",
    "# 1. Abra o arquivo JSON e carregue os dados\n",
    "with open('dados.json', 'r', encoding='utf-8') as arquivo_json:\n",
    "    dados = json.load(arquivo_json)\n",
    "\n",
    "nomes_times = []\n",
    "pontos = []\n",
    "\n"
   ]
  },
  {
   "cell_type": "code",
   "execution_count": 1,
   "metadata": {},
   "outputs": [
    {
     "ename": "NameError",
     "evalue": "name 'dados' is not defined",
     "output_type": "error",
     "traceback": [
      "\u001b[0;31m---------------------------------------------------------------------------\u001b[0m",
      "\u001b[0;31mNameError\u001b[0m                                 Traceback (most recent call last)",
      "\u001b[1;32m/home/pmaubouro/Área de Trabalho/SOCCER_SCRAPPING/main.ipynb Célula 15\u001b[0m line \u001b[0;36m1\n\u001b[0;32m----> <a href='vscode-notebook-cell:/home/pmaubouro/%C3%81rea%20de%20Trabalho/SOCCER_SCRAPPING/main.ipynb#X20sZmlsZQ%3D%3D?line=0'>1</a>\u001b[0m \u001b[39mfor\u001b[39;00m time \u001b[39min\u001b[39;00m dados:\n\u001b[1;32m      <a href='vscode-notebook-cell:/home/pmaubouro/%C3%81rea%20de%20Trabalho/SOCCER_SCRAPPING/main.ipynb#X20sZmlsZQ%3D%3D?line=1'>2</a>\u001b[0m     nome_time \u001b[39m=\u001b[39m time[\u001b[39m'\u001b[39m\u001b[39mGoals\u001b[39m\u001b[39m'\u001b[39m]\n\u001b[1;32m      <a href='vscode-notebook-cell:/home/pmaubouro/%C3%81rea%20de%20Trabalho/SOCCER_SCRAPPING/main.ipynb#X20sZmlsZQ%3D%3D?line=2'>3</a>\u001b[0m     pontuacao \u001b[39m=\u001b[39m time[\u001b[39m'\u001b[39m\u001b[39mpg\u001b[39m\u001b[39m'\u001b[39m]\n",
      "\u001b[0;31mNameError\u001b[0m: name 'dados' is not defined"
     ]
    }
   ],
   "source": [
    "for time in dados:\n",
    "    nome_time = time['Goals']\n",
    "    pontuacao = time['pg']\n",
    "\n",
    "    try:\n",
    "        pontos.append(float(pontuacao))\n",
    "        nomes_times.append(nome_time)\n",
    "    except ValueError:\n",
    "        print(f\"Valor inválido para pontos: {pontuacao} para o time {nome_time}. Ignorando.\")\n",
    "\n"
   ]
  },
  {
   "cell_type": "code",
   "execution_count": 18,
   "metadata": {},
   "outputs": [
    {
     "data": {
      "image/png": "[encoded data removed]",
      "text/plain": [
       "<Figure size 1000x600 with 1 Axes>"
      ]
     },
     "metadata": {},
     "output_type": "display_data"
    }
   ],
   "source": [
    "# 3. Criar o gráfico de barras\n",
    "plt.figure(figsize=(10, 6))\n",
    "plt.bar(nomes_times, pontos, color='skyblue')\n",
    "plt.xlabel('Times')\n",
    "plt.ylabel('Pontos (pg)')\n",
    "plt.title('Pontos de cada time')\n",
    "plt.xticks(rotation=45, ha='right')\n",
    "plt.tight_layout()\n",
    "\n",
    "# 4. Mostrar o gráfico\n",
    "plt.show()\n"
   ]
  },
  {
   "cell_type": "code",
   "execution_count": null,
   "metadata": {},
   "outputs": [],
   "source": []
  }
 ],
 "metadata": {
  "kernelspec": {
   "display_name": "venv",
   "language": "python",
   "name": "python3"
  },
  "language_info": {
   "codemirror_mode": {
    "name": "ipython",
    "version": 3
   },
   "file_extension": ".py",
   "mimetype": "text/x-python",
   "name": "python",
   "nbconvert_exporter": "python",
   "pygments_lexer": "ipython3",
   "version": "3.10.12"
  },
  "orig_nbformat": 4
 },
 "nbformat": 4,
 "nbformat_minor": 2
}
