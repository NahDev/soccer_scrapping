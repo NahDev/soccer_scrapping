{
 "cells": [
  {
   "cell_type": "code",
   "execution_count": 117,
   "id": "c683d850-33df-4ef0-882a-48c9d60c5022",
   "metadata": {},
   "outputs": [],
   "source": [
    "import pandas as pd\n",
    "from sklearn.model_selection import train_test_split\n",
    "from sklearn.linear_model import LinearRegression\n",
    "from sklearn.preprocessing import StandardScaler\n",
    "from sklearn.metrics import mean_absolute_error, r2_score\n",
    "from sklearn.ensemble import RandomForestRegressor\n",
    "\n",
    "\n",
    "def carregar_dados(file_name):\n",
    "    # Carregar dados\n",
    "    dados = pd.read_csv(file_name)\n",
    "\n",
    "    # Normalizar colunas com vírgulas e porcentagens\n",
    "    for coluna in dados.columns:\n",
    "        if dados[coluna].dtype == object:\n",
    "            if '%' in dados[coluna].iloc[0]:\n",
    "                dados[coluna] = dados[coluna].replace('%', '', regex=True).str.replace(',', '.', regex=True).astype(float) / 100.0\n",
    "            elif ',' in dados[coluna].iloc[0]:\n",
    "                dados[coluna] = dados[coluna].str.replace(',', '.', regex=True).astype(float)\n",
    "\n",
    "    return dados\n",
    "\n",
    "\n",
    "def normalizar_dados(dados, colunas_preditoras):\n",
    "    # Excluir colunas não numéricas das colunas_preditoras\n",
    "    colunas_numericas = [coluna for coluna in colunas_preditoras if pd.api.types.is_numeric_dtype(dados[coluna])]\n",
    "    if 'TIME' in dados.columns:\n",
    "        dados = dados.drop('TIME', axis=1)\n",
    "\n",
    "\n",
    "    # Normalizar apenas as colunas numéricas\n",
    "    scaler = StandardScaler()\n",
    "    dados[colunas_numericas] = scaler.fit_transform(dados[colunas_numericas])\n",
    "\n",
    "    return dados\n",
    "\n",
    "def dividir_dados(dados, coluna_alvo):\n",
    "    X = dados.drop(coluna_alvo, axis=1)\n",
    "    y = dados[coluna_alvo]\n",
    "    X_train, X_test, y_train, y_test = train_test_split(X, y, test_size=0.2, random_state=42)\n",
    "    return X_train, X_test, y_train, y_test\n",
    "\n",
    "def treinar_modelo(dados, colunas_preditoras, coluna_alvo):\n",
    "    # Separar dados em conjunto de treinamento e teste\n",
    "    X_train, X_test, y_train, y_test = train_test_split(dados[colunas_preditoras], dados[coluna_alvo], test_size=0.2, random_state=42)\n",
    "\n",
    "    # Inicializar o modelo\n",
    "    modelo = RandomForestRegressor(random_state=42)\n",
    "\n",
    "    # Treinar o modelo\n",
    "    modelo.fit(X_train, y_train)\n",
    "\n",
    "    # Avaliar o modelo no conjunto de teste\n",
    "    avaliar_modelo(modelo, X_test, y_test)\n",
    "\n",
    "    return modelo\n",
    "    \n",
    "def avaliar_modelo(modelo, X_test, y_test):\n",
    "    y_pred = modelo.predict(X_test)\n",
    "    \n",
    "    mse = mean_squared_error(y_test, y_pred)\n",
    "    mae = mean_absolute_error(y_test, y_pred)\n",
    "    r2 = r2_score(y_test, y_pred)\n",
    "    \n",
    "    print(f\"Mean Squared Error no conjunto de teste: {mse:.2f}\")\n",
    "    print(f\"Mean Absolute Error no conjunto de teste: {mae:.2f}\")\n",
    "    print(f\"R-squared no conjunto de teste: {r2:.2f}\")\n",
    "\n",
    "    return mse, mae, r2\n",
    "\n",
    "\n",
    "def prever_probabilidade(modelo, dados, nome_time_1, nome_time_2, colunas):\n",
    "    # Obter dados dos times\n",
    "    dados_time_1 = dados[dados['TIME'] == nome_time_1][colunas]\n",
    "    dados_time_2 = dados[dados['TIME'] == nome_time_2][colunas]\n",
    "\n",
    "    # Criar DataFrame com dados dos times\n",
    "    dados_predicao = pd.DataFrame({\n",
    "        'PPG': [dados_time_1['PPG'].values[0], dados_time_2['PPG'].values[0]],\n",
    "        'CS': [dados_time_1['CS'].values[0], dados_time_2['CS'].values[0]],\n",
    "        # Adicione outras colunas conforme necessário\n",
    "    })\n",
    "\n",
    "    # Prever probabilidades\n",
    "    probabilidades = modelo.predict(dados_predicao)\n",
    "\n",
    "    # Calcular probabilidade de vitória e empate\n",
    "    probabilidade_vitoria_time_1 = probabilidades[0]\n",
    "    probabilidade_vitoria_time_2 = probabilidades[1]\n",
    "    probabilidade_empate = 1 - (probabilidade_vitoria_time_1 + probabilidade_vitoria_time_2)\n",
    "\n",
    "    return probabilidade_vitoria_time_1, probabilidade_empate, probabilidade_vitoria_time_2\n",
    "\n",
    "\n",
    "\n"
   ]
  },
  {
   "cell_type": "code",
   "execution_count": 118,
   "id": "bb87c5e5-2929-4c41-af2e-e3cb46ab4aa4",
   "metadata": {},
   "outputs": [],
   "source": [
    "\n",
    "# Exemplo de uso\n",
    "file_name = '../dados/combinado.csv'  # Substitua pelo caminho real do seu arquivo\n",
    "coluna_alvo = 'Pts'"
   ]
  },
  {
   "cell_type": "code",
   "execution_count": 119,
   "id": "1de634f5-ea88-4570-a486-8a06f3e32825",
   "metadata": {},
   "outputs": [],
   "source": [
    "\n",
    "\n",
    "# Carregar dados\n",
    "dados = carregar_dados(file_name)\n",
    "\n",
    "# Normalizar dados"
   ]
  },
  {
   "cell_type": "code",
   "execution_count": 120,
   "id": "4b1e96a7-02d7-440b-9d1c-ee6c87d6cb10",
   "metadata": {},
   "outputs": [],
   "source": [
    "# Normalizar dados\n",
    "colunas_preditoras = ['FINALIZAÇÕES', 'GOLS', 'MÉDIA DE CHUTES P/ JOGO', 'APROVEITAMENTO', 'GP', 'W', 'D', 'L', 'GF', 'GA', 'GD', 'PPG', 'last 8', 'CS', 'FTS', 'TC', 'MC']\n",
    "coluna_alvo = 'Pts'  # Substitua pelo nome da sua coluna alvo\n",
    "\n",
    "dados_normalized = normalizar_dados(dados, colunas_preditoras)\n"
   ]
  },
  {
   "cell_type": "code",
   "execution_count": 121,
   "id": "52419401-e0cf-475a-ae75-20707b58681f",
   "metadata": {},
   "outputs": [],
   "source": [
    "\n",
    "\n",
    "# Dividir dados\n",
    "X_train, X_test, y_train, y_test = dividir_dados(dados_normalized, coluna_alvo)\n",
    "\n"
   ]
  },
  {
   "cell_type": "code",
   "execution_count": 122,
   "id": "d40e7ae2-0ec3-4aaa-a631-4b9695ecefdd",
   "metadata": {},
   "outputs": [
    {
     "name": "stdout",
     "output_type": "stream",
     "text": [
      "Mean Squared Error no conjunto de teste: 13.91\n",
      "Mean Absolute Error no conjunto de teste: 3.14\n",
      "R-squared no conjunto de teste: 0.88\n",
      "Mean Squared Error no conjunto de teste: 159.06\n",
      "Mean Absolute Error no conjunto de teste: 10.73\n",
      "R-squared no conjunto de teste: -0.34\n"
     ]
    },
    {
     "data": {
      "text/plain": [
       "(159.06005000000002, 10.73, -0.34227890295358665)"
      ]
     },
     "execution_count": 122,
     "metadata": {},
     "output_type": "execute_result"
    }
   ],
   "source": [
    "\n",
    "\n",
    "# Treinar modelo\n",
    "modelo = treinar_modelo(dados, colunas_preditoras, coluna_alvo)\n",
    "\n",
    "\n",
    "\n",
    "# Avaliar modelo\n",
    "avaliar_modelo(modelo, X_test, y_test)\n",
    "\n"
   ]
  },
  {
   "cell_type": "code",
   "execution_count": 123,
   "id": "bcfb3546-37ee-4cde-9816-c815777269be",
   "metadata": {},
   "outputs": [
    {
     "ename": "ValueError",
     "evalue": "The feature names should match those that were passed during fit.\nFeature names seen at fit time, yet now missing:\n- APROVEITAMENTO\n- D\n- FINALIZAÇÕES\n- FTS\n- GA\n- ...\n",
     "output_type": "error",
     "traceback": [
      "\u001b[0;31m---------------------------------------------------------------------------\u001b[0m",
      "\u001b[0;31mValueError\u001b[0m                                Traceback (most recent call last)",
      "Cell \u001b[0;32mIn[123], line 9\u001b[0m\n\u001b[1;32m      5\u001b[0m nome_time_2 \u001b[38;5;241m=\u001b[39m \u001b[38;5;124mf\u001b[39m\u001b[38;5;124m'\u001b[39m\u001b[38;5;130;01m\\xa0\u001b[39;00m\u001b[38;5;132;01m{\u001b[39;00mtime_2\u001b[38;5;132;01m}\u001b[39;00m\u001b[38;5;124m'\u001b[39m\n\u001b[1;32m      6\u001b[0m \u001b[38;5;66;03m# Nomes fictícios de dois times (substitua pelos nomes reais)\u001b[39;00m\n\u001b[1;32m      7\u001b[0m \n\u001b[1;32m      8\u001b[0m \u001b[38;5;66;03m# Prever probabilidades\u001b[39;00m\n\u001b[0;32m----> 9\u001b[0m prob_vitoria_1, prob_empate, prob_vitoria_2 \u001b[38;5;241m=\u001b[39m \u001b[43mprever_probabilidade\u001b[49m\u001b[43m(\u001b[49m\u001b[43mmodelo\u001b[49m\u001b[43m,\u001b[49m\u001b[43m \u001b[49m\u001b[43mdados\u001b[49m\u001b[43m,\u001b[49m\u001b[43m \u001b[49m\u001b[43mtime_1\u001b[49m\u001b[43m,\u001b[49m\u001b[43m \u001b[49m\u001b[43mtime_2\u001b[49m\u001b[43m,\u001b[49m\u001b[43m \u001b[49m\u001b[43mcolunas_preditoras\u001b[49m\u001b[43m)\u001b[49m\n\u001b[1;32m     11\u001b[0m \u001b[38;5;28mprint\u001b[39m(\u001b[38;5;124mf\u001b[39m\u001b[38;5;124m'\u001b[39m\u001b[38;5;124mProbabilidade de Vitória para \u001b[39m\u001b[38;5;132;01m{\u001b[39;00mtime_1\u001b[38;5;132;01m}\u001b[39;00m\u001b[38;5;124m: \u001b[39m\u001b[38;5;132;01m{\u001b[39;00mprob_vitoria_1\u001b[38;5;132;01m:\u001b[39;00m\u001b[38;5;124m.2%\u001b[39m\u001b[38;5;132;01m}\u001b[39;00m\u001b[38;5;124m'\u001b[39m)\n\u001b[1;32m     12\u001b[0m \u001b[38;5;28mprint\u001b[39m(\u001b[38;5;124mf\u001b[39m\u001b[38;5;124m'\u001b[39m\u001b[38;5;124mProbabilidade de Empate: \u001b[39m\u001b[38;5;132;01m{\u001b[39;00mprob_empate\u001b[38;5;132;01m:\u001b[39;00m\u001b[38;5;124m.2%\u001b[39m\u001b[38;5;132;01m}\u001b[39;00m\u001b[38;5;124m'\u001b[39m)\n",
      "Cell \u001b[0;32mIn[117], line 85\u001b[0m, in \u001b[0;36mprever_probabilidade\u001b[0;34m(modelo, dados, nome_time_1, nome_time_2, colunas)\u001b[0m\n\u001b[1;32m     78\u001b[0m dados_predicao \u001b[38;5;241m=\u001b[39m pd\u001b[38;5;241m.\u001b[39mDataFrame({\n\u001b[1;32m     79\u001b[0m     \u001b[38;5;124m'\u001b[39m\u001b[38;5;124mPPG\u001b[39m\u001b[38;5;124m'\u001b[39m: [dados_time_1[\u001b[38;5;124m'\u001b[39m\u001b[38;5;124mPPG\u001b[39m\u001b[38;5;124m'\u001b[39m]\u001b[38;5;241m.\u001b[39mvalues[\u001b[38;5;241m0\u001b[39m], dados_time_2[\u001b[38;5;124m'\u001b[39m\u001b[38;5;124mPPG\u001b[39m\u001b[38;5;124m'\u001b[39m]\u001b[38;5;241m.\u001b[39mvalues[\u001b[38;5;241m0\u001b[39m]],\n\u001b[1;32m     80\u001b[0m     \u001b[38;5;124m'\u001b[39m\u001b[38;5;124mCS\u001b[39m\u001b[38;5;124m'\u001b[39m: [dados_time_1[\u001b[38;5;124m'\u001b[39m\u001b[38;5;124mCS\u001b[39m\u001b[38;5;124m'\u001b[39m]\u001b[38;5;241m.\u001b[39mvalues[\u001b[38;5;241m0\u001b[39m], dados_time_2[\u001b[38;5;124m'\u001b[39m\u001b[38;5;124mCS\u001b[39m\u001b[38;5;124m'\u001b[39m]\u001b[38;5;241m.\u001b[39mvalues[\u001b[38;5;241m0\u001b[39m]],\n\u001b[1;32m     81\u001b[0m     \u001b[38;5;66;03m# Adicione outras colunas conforme necessário\u001b[39;00m\n\u001b[1;32m     82\u001b[0m })\n\u001b[1;32m     84\u001b[0m \u001b[38;5;66;03m# Prever probabilidades\u001b[39;00m\n\u001b[0;32m---> 85\u001b[0m probabilidades \u001b[38;5;241m=\u001b[39m \u001b[43mmodelo\u001b[49m\u001b[38;5;241;43m.\u001b[39;49m\u001b[43mpredict\u001b[49m\u001b[43m(\u001b[49m\u001b[43mdados_predicao\u001b[49m\u001b[43m)\u001b[49m\n\u001b[1;32m     87\u001b[0m \u001b[38;5;66;03m# Calcular probabilidade de vitória e empate\u001b[39;00m\n\u001b[1;32m     88\u001b[0m probabilidade_vitoria_time_1 \u001b[38;5;241m=\u001b[39m probabilidades[\u001b[38;5;241m0\u001b[39m]\n",
      "File \u001b[0;32m~/Área de Trabalho/SOCCER_SCRAPPING/venv/lib/python3.10/site-packages/sklearn/ensemble/_forest.py:984\u001b[0m, in \u001b[0;36mForestRegressor.predict\u001b[0;34m(self, X)\u001b[0m\n\u001b[1;32m    982\u001b[0m check_is_fitted(\u001b[38;5;28mself\u001b[39m)\n\u001b[1;32m    983\u001b[0m \u001b[38;5;66;03m# Check data\u001b[39;00m\n\u001b[0;32m--> 984\u001b[0m X \u001b[38;5;241m=\u001b[39m \u001b[38;5;28;43mself\u001b[39;49m\u001b[38;5;241;43m.\u001b[39;49m\u001b[43m_validate_X_predict\u001b[49m\u001b[43m(\u001b[49m\u001b[43mX\u001b[49m\u001b[43m)\u001b[49m\n\u001b[1;32m    986\u001b[0m \u001b[38;5;66;03m# Assign chunk of trees to jobs\u001b[39;00m\n\u001b[1;32m    987\u001b[0m n_jobs, _, _ \u001b[38;5;241m=\u001b[39m _partition_estimators(\u001b[38;5;28mself\u001b[39m\u001b[38;5;241m.\u001b[39mn_estimators, \u001b[38;5;28mself\u001b[39m\u001b[38;5;241m.\u001b[39mn_jobs)\n",
      "File \u001b[0;32m~/Área de Trabalho/SOCCER_SCRAPPING/venv/lib/python3.10/site-packages/sklearn/ensemble/_forest.py:599\u001b[0m, in \u001b[0;36mBaseForest._validate_X_predict\u001b[0;34m(self, X)\u001b[0m\n\u001b[1;32m    596\u001b[0m \u001b[38;5;250m\u001b[39m\u001b[38;5;124;03m\"\"\"\u001b[39;00m\n\u001b[1;32m    597\u001b[0m \u001b[38;5;124;03mValidate X whenever one tries to predict, apply, predict_proba.\"\"\"\u001b[39;00m\n\u001b[1;32m    598\u001b[0m check_is_fitted(\u001b[38;5;28mself\u001b[39m)\n\u001b[0;32m--> 599\u001b[0m X \u001b[38;5;241m=\u001b[39m \u001b[38;5;28;43mself\u001b[39;49m\u001b[38;5;241;43m.\u001b[39;49m\u001b[43m_validate_data\u001b[49m\u001b[43m(\u001b[49m\u001b[43mX\u001b[49m\u001b[43m,\u001b[49m\u001b[43m \u001b[49m\u001b[43mdtype\u001b[49m\u001b[38;5;241;43m=\u001b[39;49m\u001b[43mDTYPE\u001b[49m\u001b[43m,\u001b[49m\u001b[43m \u001b[49m\u001b[43maccept_sparse\u001b[49m\u001b[38;5;241;43m=\u001b[39;49m\u001b[38;5;124;43m\"\u001b[39;49m\u001b[38;5;124;43mcsr\u001b[39;49m\u001b[38;5;124;43m\"\u001b[39;49m\u001b[43m,\u001b[49m\u001b[43m \u001b[49m\u001b[43mreset\u001b[49m\u001b[38;5;241;43m=\u001b[39;49m\u001b[38;5;28;43;01mFalse\u001b[39;49;00m\u001b[43m)\u001b[49m\n\u001b[1;32m    600\u001b[0m \u001b[38;5;28;01mif\u001b[39;00m issparse(X) \u001b[38;5;129;01mand\u001b[39;00m (X\u001b[38;5;241m.\u001b[39mindices\u001b[38;5;241m.\u001b[39mdtype \u001b[38;5;241m!=\u001b[39m np\u001b[38;5;241m.\u001b[39mintc \u001b[38;5;129;01mor\u001b[39;00m X\u001b[38;5;241m.\u001b[39mindptr\u001b[38;5;241m.\u001b[39mdtype \u001b[38;5;241m!=\u001b[39m np\u001b[38;5;241m.\u001b[39mintc):\n\u001b[1;32m    601\u001b[0m     \u001b[38;5;28;01mraise\u001b[39;00m \u001b[38;5;167;01mValueError\u001b[39;00m(\u001b[38;5;124m\"\u001b[39m\u001b[38;5;124mNo support for np.int64 index based sparse matrices\u001b[39m\u001b[38;5;124m\"\u001b[39m)\n",
      "File \u001b[0;32m~/Área de Trabalho/SOCCER_SCRAPPING/venv/lib/python3.10/site-packages/sklearn/base.py:580\u001b[0m, in \u001b[0;36mBaseEstimator._validate_data\u001b[0;34m(self, X, y, reset, validate_separately, cast_to_ndarray, **check_params)\u001b[0m\n\u001b[1;32m    509\u001b[0m \u001b[38;5;28;01mdef\u001b[39;00m \u001b[38;5;21m_validate_data\u001b[39m(\n\u001b[1;32m    510\u001b[0m     \u001b[38;5;28mself\u001b[39m,\n\u001b[1;32m    511\u001b[0m     X\u001b[38;5;241m=\u001b[39m\u001b[38;5;124m\"\u001b[39m\u001b[38;5;124mno_validation\u001b[39m\u001b[38;5;124m\"\u001b[39m,\n\u001b[0;32m   (...)\u001b[0m\n\u001b[1;32m    516\u001b[0m     \u001b[38;5;241m*\u001b[39m\u001b[38;5;241m*\u001b[39mcheck_params,\n\u001b[1;32m    517\u001b[0m ):\n\u001b[1;32m    518\u001b[0m \u001b[38;5;250m    \u001b[39m\u001b[38;5;124;03m\"\"\"Validate input data and set or check the `n_features_in_` attribute.\u001b[39;00m\n\u001b[1;32m    519\u001b[0m \n\u001b[1;32m    520\u001b[0m \u001b[38;5;124;03m    Parameters\u001b[39;00m\n\u001b[0;32m   (...)\u001b[0m\n\u001b[1;32m    578\u001b[0m \u001b[38;5;124;03m        validated.\u001b[39;00m\n\u001b[1;32m    579\u001b[0m \u001b[38;5;124;03m    \"\"\"\u001b[39;00m\n\u001b[0;32m--> 580\u001b[0m     \u001b[38;5;28;43mself\u001b[39;49m\u001b[38;5;241;43m.\u001b[39;49m\u001b[43m_check_feature_names\u001b[49m\u001b[43m(\u001b[49m\u001b[43mX\u001b[49m\u001b[43m,\u001b[49m\u001b[43m \u001b[49m\u001b[43mreset\u001b[49m\u001b[38;5;241;43m=\u001b[39;49m\u001b[43mreset\u001b[49m\u001b[43m)\u001b[49m\n\u001b[1;32m    582\u001b[0m     \u001b[38;5;28;01mif\u001b[39;00m y \u001b[38;5;129;01mis\u001b[39;00m \u001b[38;5;28;01mNone\u001b[39;00m \u001b[38;5;129;01mand\u001b[39;00m \u001b[38;5;28mself\u001b[39m\u001b[38;5;241m.\u001b[39m_get_tags()[\u001b[38;5;124m\"\u001b[39m\u001b[38;5;124mrequires_y\u001b[39m\u001b[38;5;124m\"\u001b[39m]:\n\u001b[1;32m    583\u001b[0m         \u001b[38;5;28;01mraise\u001b[39;00m \u001b[38;5;167;01mValueError\u001b[39;00m(\n\u001b[1;32m    584\u001b[0m             \u001b[38;5;124mf\u001b[39m\u001b[38;5;124m\"\u001b[39m\u001b[38;5;124mThis \u001b[39m\u001b[38;5;132;01m{\u001b[39;00m\u001b[38;5;28mself\u001b[39m\u001b[38;5;241m.\u001b[39m\u001b[38;5;18m__class__\u001b[39m\u001b[38;5;241m.\u001b[39m\u001b[38;5;18m__name__\u001b[39m\u001b[38;5;132;01m}\u001b[39;00m\u001b[38;5;124m estimator \u001b[39m\u001b[38;5;124m\"\u001b[39m\n\u001b[1;32m    585\u001b[0m             \u001b[38;5;124m\"\u001b[39m\u001b[38;5;124mrequires y to be passed, but the target y is None.\u001b[39m\u001b[38;5;124m\"\u001b[39m\n\u001b[1;32m    586\u001b[0m         )\n",
      "File \u001b[0;32m~/Área de Trabalho/SOCCER_SCRAPPING/venv/lib/python3.10/site-packages/sklearn/base.py:507\u001b[0m, in \u001b[0;36mBaseEstimator._check_feature_names\u001b[0;34m(self, X, reset)\u001b[0m\n\u001b[1;32m    502\u001b[0m \u001b[38;5;28;01mif\u001b[39;00m \u001b[38;5;129;01mnot\u001b[39;00m missing_names \u001b[38;5;129;01mand\u001b[39;00m \u001b[38;5;129;01mnot\u001b[39;00m unexpected_names:\n\u001b[1;32m    503\u001b[0m     message \u001b[38;5;241m+\u001b[39m\u001b[38;5;241m=\u001b[39m (\n\u001b[1;32m    504\u001b[0m         \u001b[38;5;124m\"\u001b[39m\u001b[38;5;124mFeature names must be in the same order as they were in fit.\u001b[39m\u001b[38;5;130;01m\\n\u001b[39;00m\u001b[38;5;124m\"\u001b[39m\n\u001b[1;32m    505\u001b[0m     )\n\u001b[0;32m--> 507\u001b[0m \u001b[38;5;28;01mraise\u001b[39;00m \u001b[38;5;167;01mValueError\u001b[39;00m(message)\n",
      "\u001b[0;31mValueError\u001b[0m: The feature names should match those that were passed during fit.\nFeature names seen at fit time, yet now missing:\n- APROVEITAMENTO\n- D\n- FINALIZAÇÕES\n- FTS\n- GA\n- ...\n"
     ]
    }
   ],
   "source": [
    "\n",
    "\n",
    "# Nomes fictícios de dois times (substitua pelos nomes reais)\n",
    "time_1 ='Palmeiras'\n",
    "time_2 = 'Coritiba'\n",
    "nome_time_1 = f'\\xa0{time_1}'\n",
    "nome_time_2 = f'\\xa0{time_2}'\n",
    "# Nomes fictícios de dois times (substitua pelos nomes reais)\n",
    "\n",
    "# Prever probabilidades\n",
    "prob_vitoria_1, prob_empate, prob_vitoria_2 = prever_probabilidade(modelo, dados, time_1, time_2, colunas_preditoras)\n",
    "\n",
    "print(f'Probabilidade de Vitória para {time_1}: {prob_vitoria_1:.2%}')\n",
    "print(f'Probabilidade de Empate: {prob_empate:.2%}')\n",
    "print(f'Probabilidade de Vitória para {time_2}: {prob_vitoria_2:.2%}')"
   ]
  },
  {
   "cell_type": "code",
   "execution_count": null,
   "id": "6ea0da5d-d2df-42c3-812c-fe15430a4ea9",
   "metadata": {},
   "outputs": [],
   "source": []
  }
 ],
 "metadata": {
  "kernelspec": {
   "display_name": "Python 3 (ipykernel)",
   "language": "python",
   "name": "python3"
  },
  "language_info": {
   "codemirror_mode": {
    "name": "ipython",
    "version": 3
   },
   "file_extension": ".py",
   "mimetype": "text/x-python",
   "name": "python",
   "nbconvert_exporter": "python",
   "pygments_lexer": "ipython3",
   "version": "3.10.12"
  }
 },
 "nbformat": 4,
 "nbformat_minor": 5
}
